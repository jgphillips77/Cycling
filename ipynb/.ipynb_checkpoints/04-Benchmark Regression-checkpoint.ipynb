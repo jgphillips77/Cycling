{
 "cells": [
  {
   "cell_type": "code",
   "execution_count": 1,
   "metadata": {},
   "outputs": [
    {
     "name": "stdout",
     "output_type": "stream",
     "text": [
      "/Users/johnphillips/Desktop/DSI/Cycling\n"
     ]
    }
   ],
   "source": [
    "cd .."
   ]
  },
  {
   "cell_type": "code",
   "execution_count": 2,
   "metadata": {
    "collapsed": true
   },
   "outputs": [],
   "source": [
    "%matplotlib inline"
   ]
  },
  {
   "cell_type": "code",
   "execution_count": 3,
   "metadata": {
    "collapsed": true
   },
   "outputs": [],
   "source": [
    "%run __init__.py"
   ]
  },
  {
   "cell_type": "code",
   "execution_count": 4,
   "metadata": {
    "collapsed": true
   },
   "outputs": [],
   "source": [
    "# Import pickled clean data:\n",
    "lap1 = pd.read_pickle('data/lap1.p')\n",
    "lap2 = pd.read_pickle('data/lap2.p')\n",
    "lap3 = pd.read_pickle('data/lap3.p')"
   ]
  },
  {
   "cell_type": "markdown",
   "metadata": {},
   "source": [
    "## Benchmark Modeling"
   ]
  },
  {
   "cell_type": "code",
   "execution_count": 5,
   "metadata": {
    "collapsed": true
   },
   "outputs": [],
   "source": [
    "# Let's do a model focused on power.\n",
    "X = lap3.drop(['power'], axis=1) \n",
    "\n",
    "# Make a y based upon Power\n",
    "y = lap3['power']"
   ]
  },
  {
   "cell_type": "code",
   "execution_count": 6,
   "metadata": {
    "collapsed": true
   },
   "outputs": [],
   "source": [
    "# Standard split:\n",
    "X_train, X_test, y_train, y_test = train_test_split(X, y, test_size=0.4, random_state = 42)"
   ]
  },
  {
   "cell_type": "markdown",
   "metadata": {},
   "source": [
    "## Linear Regression"
   ]
  },
  {
   "cell_type": "code",
   "execution_count": 7,
   "metadata": {},
   "outputs": [
    {
     "name": "stdout",
     "output_type": "stream",
     "text": [
      "Training set score: 0.77\n",
      "Test set score: 0.74\n"
     ]
    }
   ],
   "source": [
    "lr = LinearRegression()\n",
    "lr.fit(X_train, y_train) \n",
    "print(\"Training set score: {:.2f}\".format(lr.score(X_train, y_train)))\n",
    "print(\"Test set score: {:.2f}\".format(lr.score(X_test, y_test)))"
   ]
  },
  {
   "cell_type": "code",
   "execution_count": 8,
   "metadata": {},
   "outputs": [
    {
     "name": "stdout",
     "output_type": "stream",
     "text": [
      "0.2534803228249336\n"
     ]
    },
    {
     "data": {
      "image/png": "[encoded data removed]",
      "text/plain": [
       "<matplotlib.figure.Figure at 0x10d799110>"
      ]
     },
     "metadata": {},
     "output_type": "display_data"
    }
   ],
   "source": [
    "# How predictable is Cadence for Power?\n",
    "X_cad = lap3['cadence'].values.reshape(-1,1)\n",
    "\n",
    "# Create the prediction space\n",
    "prediction_space = np.linspace(min(X_cad), max(X_cad)).reshape(-1,1)\n",
    "\n",
    "# Fit the model to the data\n",
    "lr.fit(X_cad, y)\n",
    "\n",
    "# Compute predictions over the prediction space: y_pred\n",
    "y_pred = lr.predict(prediction_space)\n",
    "\n",
    "# Print R^2 \n",
    "print(lr.score(X_cad, y))\n",
    "\n",
    "# Plot regression line\n",
    "plt.plot(prediction_space, y_pred, color='black', linewidth=3)\n",
    "plt.xlabel('Cadence')\n",
    "plt.ylabel('Power Predicted')\n",
    "plt.axvline(x=(lap3.cadence.mean())) # Mean RPM Line\n",
    "plt.axhline(y=(lap3.power.mean())) # Mean Power Line\n",
    "plt.show()"
   ]
  },
  {
   "cell_type": "code",
   "execution_count": 9,
   "metadata": {},
   "outputs": [
    {
     "name": "stdout",
     "output_type": "stream",
     "text": [
      "0.17185072639836352\n"
     ]
    },
    {
     "data": {
      "image/png": "[encoded data removed]",
      "text/plain": [
       "<matplotlib.figure.Figure at 0x110895150>"
      ]
     },
     "metadata": {},
     "output_type": "display_data"
    }
   ],
   "source": [
    "# Can we do the same for Pelvic Rock?\n",
    "X_rock = lap3['waist_d_rot_z_center'].values.reshape(-1,1)\n",
    "\n",
    "# Create the prediction space\n",
    "prediction_space = np.linspace(min(X_rock), max(X_rock)).reshape(-1,1)\n",
    "\n",
    "# Fit the model to the data\n",
    "lr.fit(X_rock, y)\n",
    "\n",
    "# Compute predictions over the prediction space: y_pred\n",
    "y_pred = lr.predict(prediction_space)\n",
    "\n",
    "# Print R^2 \n",
    "print(lr.score(X_rock, y))\n",
    "\n",
    "# Plot regression line\n",
    "plt.plot(prediction_space, y_pred, color='black', linewidth=3)\n",
    "plt.xlabel('Pelvic Rock')\n",
    "plt.ylabel('Power Predicted')\n",
    "plt.axhline(y=(lap3.power.mean())) # Mean Power Line\n",
    "plt.axvline(x=(lap3['waist_d_rot_z_center'].mean())) # Mean Rock Line\n",
    "plt.show() "
   ]
  },
  {
   "cell_type": "code",
   "execution_count": 10,
   "metadata": {},
   "outputs": [
    {
     "name": "stdout",
     "output_type": "stream",
     "text": [
      "Mean Lap 3 Power is: 326.78\n",
      "Mean Lap 3 Pelvic Rock is: 6.7\n"
     ]
    }
   ],
   "source": [
    "print 'Mean Lap 3 Power is:', round(lap3.power.mean(), 2)\n",
    "print 'Mean Lap 3 Pelvic Rock is:', round(lap3['waist_d_rot_z_center'].mean(), 2)"
   ]
  },
  {
   "cell_type": "markdown",
   "metadata": {},
   "source": [
    "Is 6.7 degrees of Pelvic Rock acceptable?"
   ]
  },
  {
   "cell_type": "markdown",
   "metadata": {},
   "source": [
    "## Lasso"
   ]
  },
  {
   "cell_type": "code",
   "execution_count": 11,
   "metadata": {},
   "outputs": [
    {
     "data": {
      "text/plain": [
       "0.7318358505762697"
      ]
     },
     "execution_count": 11,
     "metadata": {},
     "output_type": "execute_result"
    }
   ],
   "source": [
    "lasso = Lasso(alpha=0.4, normalize=False)\n",
    "lasso.fit(X_train, y_train) \n",
    "lasso_predict = lasso.predict(X_test)\n",
    "lasso.score(X_test, y_test)"
   ]
  },
  {
   "cell_type": "code",
   "execution_count": 12,
   "metadata": {},
   "outputs": [
    {
     "data": {
      "image/png": "[encoded data removed]",
      "text/plain": [
       "<matplotlib.figure.Figure at 0x10d799250>"
      ]
     },
     "metadata": {},
     "output_type": "display_data"
    }
   ],
   "source": [
    "lasso_coef = lasso.fit(X, y).coef_\n",
    "names = X.columns\n",
    "\n",
    "_ = plt.plot(range(len(names)), lasso_coef)\n",
    "_ = plt.xticks(range(len(names)), names, rotation=65)\n",
    "_ = plt.ylabel('Coefficents')\n",
    "plt.show()"
   ]
  },
  {
   "cell_type": "markdown",
   "metadata": {
    "collapsed": true
   },
   "source": [
    "## Compare Benchmark Models"
   ]
  },
  {
   "cell_type": "code",
   "execution_count": 13,
   "metadata": {
    "collapsed": true
   },
   "outputs": [],
   "source": [
    "lin_reg_output = run_benchmark(LinearRegression(), \n",
    "                               'linear regression',\n",
    "                               lap3, \n",
    "                               'power')"
   ]
  },
  {
   "cell_type": "code",
   "execution_count": 14,
   "metadata": {
    "collapsed": true
   },
   "outputs": [],
   "source": [
    "lasso_output = run_benchmark(Lasso(), \n",
    "                           'lasso', \n",
    "                           lap3, 'power')"
   ]
  },
  {
   "cell_type": "code",
   "execution_count": 15,
   "metadata": {
    "collapsed": true
   },
   "outputs": [],
   "source": [
    "ridge_output = run_benchmark(Ridge(), \n",
    "                           'ridge', \n",
    "                           lap3, 'power')"
   ]
  },
  {
   "cell_type": "code",
   "execution_count": 16,
   "metadata": {
    "collapsed": true
   },
   "outputs": [],
   "source": [
    "enet_output = run_benchmark(ElasticNet(), \n",
    "                           'elastic net', \n",
    "                           lap3, 'power')"
   ]
  },
  {
   "cell_type": "code",
   "execution_count": 17,
   "metadata": {
    "collapsed": true
   },
   "outputs": [],
   "source": [
    "dtree_output = run_benchmark(DecisionTreeRegressor(), \n",
    "                             'decision tree',\n",
    "                             lap3, 'power')"
   ]
  },
  {
   "cell_type": "code",
   "execution_count": 18,
   "metadata": {
    "collapsed": true
   },
   "outputs": [],
   "source": [
    "knn_output = run_benchmark(KNeighborsRegressor(), \n",
    "                             'knn',\n",
    "                             lap3, 'power')"
   ]
  },
  {
   "cell_type": "code",
   "execution_count": 19,
   "metadata": {},
   "outputs": [
    {
     "data": {
      "text/html": [
       "<div>\n",
       "<style scoped>\n",
       "    .dataframe tbody tr th:only-of-type {\n",
       "        vertical-align: middle;\n",
       "    }\n",
       "\n",
       "    .dataframe tbody tr th {\n",
       "        vertical-align: top;\n",
       "    }\n",
       "\n",
       "    .dataframe thead th {\n",
       "        text-align: right;\n",
       "    }\n",
       "</style>\n",
       "<table border=\"1\" class=\"dataframe\">\n",
       "  <thead>\n",
       "    <tr style=\"text-align: right;\">\n",
       "      <th></th>\n",
       "      <th>model_name</th>\n",
       "      <th>test_score</th>\n",
       "      <th>train_score</th>\n",
       "    </tr>\n",
       "  </thead>\n",
       "  <tbody>\n",
       "    <tr>\n",
       "      <th>0</th>\n",
       "      <td>linear regression</td>\n",
       "      <td>0.7290</td>\n",
       "      <td>0.7724</td>\n",
       "    </tr>\n",
       "    <tr>\n",
       "      <th>1</th>\n",
       "      <td>lasso</td>\n",
       "      <td>0.7297</td>\n",
       "      <td>0.7660</td>\n",
       "    </tr>\n",
       "    <tr>\n",
       "      <th>2</th>\n",
       "      <td>ridge</td>\n",
       "      <td>0.7848</td>\n",
       "      <td>0.7515</td>\n",
       "    </tr>\n",
       "    <tr>\n",
       "      <th>3</th>\n",
       "      <td>elastic net</td>\n",
       "      <td>0.7459</td>\n",
       "      <td>0.7601</td>\n",
       "    </tr>\n",
       "    <tr>\n",
       "      <th>4</th>\n",
       "      <td>decision tree</td>\n",
       "      <td>0.5656</td>\n",
       "      <td>1.0000</td>\n",
       "    </tr>\n",
       "    <tr>\n",
       "      <th>5</th>\n",
       "      <td>knn</td>\n",
       "      <td>0.7690</td>\n",
       "      <td>0.8613</td>\n",
       "    </tr>\n",
       "  </tbody>\n",
       "</table>\n",
       "</div>"
      ],
      "text/plain": [
       "          model_name  test_score  train_score\n",
       "0  linear regression      0.7290       0.7724\n",
       "1              lasso      0.7297       0.7660\n",
       "2              ridge      0.7848       0.7515\n",
       "3        elastic net      0.7459       0.7601\n",
       "4      decision tree      0.5656       1.0000\n",
       "5                knn      0.7690       0.8613"
      ]
     },
     "execution_count": 19,
     "metadata": {},
     "output_type": "execute_result"
    }
   ],
   "source": [
    "output = [\n",
    "    lin_reg_output,\n",
    "    lasso_output,\n",
    "    ridge_output,\n",
    "    enet_output,\n",
    "    dtree_output,\n",
    "    knn_output\n",
    "]\n",
    "pd.DataFrame(output)"
   ]
  },
  {
   "cell_type": "code",
   "execution_count": null,
   "metadata": {
    "collapsed": true
   },
   "outputs": [],
   "source": []
  }
 ],
 "metadata": {
  "kernelspec": {
   "display_name": "Python [default]",
   "language": "python",
   "name": "python2"
  },
  "language_info": {
   "codemirror_mode": {
    "name": "ipython",
    "version": 2
   },
   "file_extension": ".py",
   "mimetype": "text/x-python",
   "name": "python",
   "nbconvert_exporter": "python",
   "pygments_lexer": "ipython2",
   "version": "2.7.14"
  }
 },
 "nbformat": 4,
 "nbformat_minor": 2
}
